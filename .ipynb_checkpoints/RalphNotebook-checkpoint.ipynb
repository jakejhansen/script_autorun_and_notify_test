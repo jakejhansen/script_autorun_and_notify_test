{
 "cells": [
  {
   "cell_type": "code",
   "execution_count": 169,
   "id": "c4ee75d0",
   "metadata": {},
   "outputs": [],
   "source": [
    "import requests\n",
    "from bs4 import BeautifulSoup\n",
    "import os\n",
    "from shlex import quote"
   ]
  },
  {
   "cell_type": "code",
   "execution_count": 202,
   "id": "adbde5fd",
   "metadata": {},
   "outputs": [],
   "source": [
    "def proces(combined_string):\n",
    "    with open('tmp/output.html', 'r') as file:\n",
    "        data = file.read()\n",
    "    \n",
    "    soup = BeautifulSoup(data, 'html.parser')\n",
    "    \n",
    "    tiles = soup.find_all('div', class_='product-tile')\n",
    "    \n",
    "    my_string = ''\n",
    "    for tile in tiles[:4]:\n",
    "        try:\n",
    "            price = tile.find('div', class_='product-pricing').find('span','lowcblack').get_text().replace(',00 DKK','')\n",
    "        except:\n",
    "            price = tile.find('input', class_='js-product-grid-prices').get_text().split('Price')[-1].replace('\\n','').strip()\n",
    "        name = tile.find('div', class_='product-name').find('a', 'name-link').get_text().replace('\\n','')\n",
    "        my_string += '\\n{} {}'.format(price, name)\n",
    "        print(price, name)\n",
    "    return(my_string + '\\n')"
   ]
  },
  {
   "cell_type": "code",
   "execution_count": 190,
   "id": "00a6ff8f",
   "metadata": {},
   "outputs": [],
   "source": [
    "urls = {\n",
    "    'Hoodie and sweatshirts':'https://www.ralphlauren.eu/dk/en/men/clothing/hoodies-sweatshirts/10204?srule=price-low-high&start=0&sz=32&webcat=Men%7CClothing%7CHoodies%20%26%20Sweatshirts',\n",
    "    'Jackets and coats': 'https://www.ralphlauren.eu/dk/en/men/clothing/jackets-coats/10205?srule=price-low-high&start=0&sz=32&webcat=Men%7CClothing%7CJackets%20%26%20Coats',\n",
    "    \"T-shirts\": 'https://www.ralphlauren.eu/dk/en/men/clothing/t-shirts/10203?srule=price-low-high&start=0&sz=32&webcat=Men%7CClothing%7CT-Shirts',\n",
    "    \"Jumpers and cardigans\": 'https://www.ralphlauren.eu/dk/en/men/clothing/jumpers-cardigans/10206?srule=price-low-high&start=0&sz=32&webcat=Men%7CClothing%7CJumpers%20%26%20Cardigans',\n",
    "    \"Casual shirts\": 'https://www.ralphlauren.eu/dk/en/men/clothing/casual-shirts/10202?srule=price-low-high&start=0&sz=32&webcat=Men%7CClothing%7CCasual%20Shirts',\n",
    "    \"Polo shirts\": 'https://www.ralphlauren.eu/dk/en/men/clothing/polo-shirts/10201?srule=price-low-high&start=0&sz=32&webcat=Men%7CClothing%7CPolo%20Shirts',\n",
    "    \"Trousers\": 'https://www.ralphlauren.eu/dk/en/men/clothing/trousers/102015?srule=price-low-high&start=0&sz=32&webcat=Men%7CClothing%7CTrousers',\n",
    "    \"Jeans\": 'https://www.ralphlauren.eu/dk/en/men/clothing/jeans/102010?srule=price-low-high&start=0&sz=32&webcat=Men%7CClothing%7CJeans',\n",
    "    \"Blazers\": 'https://www.ralphlauren.eu/dk/en/men/clothing/blazers/10209?srule=price-low-high&start=0&sz=32&webcat=Men%7CClothing%7CBlazers',\n",
    "    \"Dress shirts\": 'https://www.ralphlauren.eu/dk/en/men/clothing/formal-shirts/10207?srule=price-low-high&start=0&sz=32&webcat=Men%7CClothing%7CFormal%20Shirts',\n",
    "    \"Suits\": 'https://www.ralphlauren.eu/dk/en/men/clothing/suits/102019?srule=price-low-high&start=0&sz=32&webcat=Men%7CClothing%7CSuits',\n",
    "    \"Trainers\": 'https://www.ralphlauren.eu/dk/en/men/shoes/trainers/10403?srule=price-low-high&start=0&sz=32&webcat=Men%7CShoes%7CTrainers',\n",
    "    \"Casual shoes\": 'https://www.ralphlauren.eu/dk/en/men/shoes/casual-shoes/10402?webcat=men%7Cshoes%7Cmen-shoes-casual-shoes'\n",
    "}"
   ]
  },
  {
   "cell_type": "code",
   "execution_count": 206,
   "id": "3f0dc997",
   "metadata": {},
   "outputs": [
    {
     "name": "stdout",
     "output_type": "stream",
     "text": [
      "\n",
      "Hoodie and sweatshirts\n",
      "179 Double-Knit Hoodie\n",
      "999 Waffle-Knit Crewneck\n",
      "1.099 Striped Waffle-Knit Crewneck\n",
      "1.099 Classic Fit Logo Hockey Jersey\n",
      "\n",
      "Jackets and coats\n",
      "1.299 Polo Sport Hybrid Waistcoat\n",
      "1.399 Oxford Full-Zip Overshirt\n",
      "1.399 Oxford Full-Zip Overshirt\n",
      "1.399 Double-Knit Track Jacket\n"
     ]
    }
   ],
   "source": [
    "combined_string = ''\n",
    "for url in urls:\n",
    "    command = \"curl '{}' \\\n",
    "      -H 'authority: www.ralphlauren.eu' \\\n",
    "      -H 'accept: text/html,application/xhtml+xml,application/xml;q=0.9,image/avif,image/webp,image/apng,*/*;q=0.8,application/signed-exchange;v=b3;q=0.9' \\\n",
    "      -H 'sec-ch-ua: \\\"Google Chrome\\\";v=\\\"107\\\", \\\"Chromium\\\";v=\\\"107\\\", \\\"Not=A?Brand\\\";v=\\\"24\\\"' \\\n",
    "      -H 'user-agent: Mozilla/5.0 (Macintosh; Intel Mac OS X 10_15_7) AppleWebKit/537.36 (KHTML, like Gecko) Chrome/107.0.0.0 Safari/537.36' \\\n",
    "      --compressed --silent > tmp/output.html\".format(urls[url])\n",
    "    \n",
    "    #run script\n",
    "    os.system(command)\n",
    "    \n",
    "    string = '\\n{}'.format(url)\n",
    "    print(string)\n",
    "    combined_string += string\n",
    "    combined_string += proces(combined_string)"
   ]
  },
  {
   "cell_type": "code",
   "execution_count": 207,
   "id": "93ced063",
   "metadata": {},
   "outputs": [
    {
     "name": "stdout",
     "output_type": "stream",
     "text": [
      "\n",
      "Hoodie and sweatshirts\n",
      "179 Double-Knit Hoodie\n",
      "999 Waffle-Knit Crewneck\n",
      "1.099 Striped Waffle-Knit Crewneck\n",
      "1.099 Classic Fit Logo Hockey Jersey\n",
      "\n",
      "Jackets and coats\n",
      "1.299 Polo Sport Hybrid Waistcoat\n",
      "1.399 Oxford Full-Zip Overshirt\n",
      "1.399 Oxford Full-Zip Overshirt\n",
      "1.399 Double-Knit Track Jacket\n",
      "\n"
     ]
    }
   ],
   "source": [
    "print(combined_string)"
   ]
  },
  {
   "cell_type": "markdown",
   "id": "5574f078",
   "metadata": {},
   "source": [
    "## DEBUG"
   ]
  },
  {
   "cell_type": "code",
   "execution_count": 132,
   "id": "73754a4a",
   "metadata": {},
   "outputs": [
    {
     "data": {
      "text/plain": [
       "0"
      ]
     },
     "execution_count": 132,
     "metadata": {},
     "output_type": "execute_result"
    }
   ],
   "source": [
    "url = urls['T-shirts']\n",
    "command = \"curl '{}' \\\n",
    "      -H 'authority: www.ralphlauren.eu' \\\n",
    "      -H 'accept: text/html,application/xhtml+xml,application/xml;q=0.9,image/avif,image/webp,image/apng,*/*;q=0.8,application/signed-exchange;v=b3;q=0.9' \\\n",
    "      -H 'sec-ch-ua: \\\"Google Chrome\\\";v=\\\"107\\\", \\\"Chromium\\\";v=\\\"107\\\", \\\"Not=A?Brand\\\";v=\\\"24\\\"' \\\n",
    "      -H 'user-agent: Mozilla/5.0 (Macintosh; Intel Mac OS X 10_15_7) AppleWebKit/537.36 (KHTML, like Gecko) Chrome/107.0.0.0 Safari/537.36' \\\n",
    "      --compressed --silent > tmp/output.html\".format(url)\n",
    "    \n",
    "    #run script\n",
    "os.system(command)"
   ]
  },
  {
   "cell_type": "code",
   "execution_count": 135,
   "id": "32f9d7c3",
   "metadata": {},
   "outputs": [
    {
     "ename": "AttributeError",
     "evalue": "'NoneType' object has no attribute 'get_text'",
     "output_type": "error",
     "traceback": [
      "\u001b[0;31m---------------------------------------------------------------------------\u001b[0m",
      "\u001b[0;31mAttributeError\u001b[0m                            Traceback (most recent call last)",
      "Cell \u001b[0;32mIn [135], line 9\u001b[0m\n\u001b[1;32m      6\u001b[0m tiles \u001b[38;5;241m=\u001b[39m soup\u001b[38;5;241m.\u001b[39mfind_all(\u001b[38;5;124m'\u001b[39m\u001b[38;5;124mdiv\u001b[39m\u001b[38;5;124m'\u001b[39m, class_\u001b[38;5;241m=\u001b[39m\u001b[38;5;124m'\u001b[39m\u001b[38;5;124mproduct-tile\u001b[39m\u001b[38;5;124m'\u001b[39m)\n\u001b[1;32m      8\u001b[0m \u001b[38;5;28;01mfor\u001b[39;00m tile \u001b[38;5;129;01min\u001b[39;00m tiles[:\u001b[38;5;241m4\u001b[39m]:\n\u001b[0;32m----> 9\u001b[0m     price \u001b[38;5;241m=\u001b[39m \u001b[43mtile\u001b[49m\u001b[38;5;241;43m.\u001b[39;49m\u001b[43mfind\u001b[49m\u001b[43m(\u001b[49m\u001b[38;5;124;43m'\u001b[39;49m\u001b[38;5;124;43mdiv\u001b[39;49m\u001b[38;5;124;43m'\u001b[39;49m\u001b[43m,\u001b[49m\u001b[43m \u001b[49m\u001b[43mclass_\u001b[49m\u001b[38;5;241;43m=\u001b[39;49m\u001b[38;5;124;43m'\u001b[39;49m\u001b[38;5;124;43mproduct-pricing\u001b[39;49m\u001b[38;5;124;43m'\u001b[39;49m\u001b[43m)\u001b[49m\u001b[38;5;241;43m.\u001b[39;49m\u001b[43mfind\u001b[49m\u001b[43m(\u001b[49m\u001b[38;5;124;43m'\u001b[39;49m\u001b[38;5;124;43mspan\u001b[39;49m\u001b[38;5;124;43m'\u001b[39;49m\u001b[43m,\u001b[49m\u001b[38;5;124;43m'\u001b[39;49m\u001b[38;5;124;43mlowcblack\u001b[39;49m\u001b[38;5;124;43m'\u001b[39;49m\u001b[43m)\u001b[49m\u001b[38;5;241;43m.\u001b[39;49m\u001b[43mget_text\u001b[49m()\u001b[38;5;241m.\u001b[39mreplace(\u001b[38;5;124m'\u001b[39m\u001b[38;5;124m,00 DKK\u001b[39m\u001b[38;5;124m'\u001b[39m,\u001b[38;5;124m'\u001b[39m\u001b[38;5;124m'\u001b[39m)\n\u001b[1;32m     10\u001b[0m     name \u001b[38;5;241m=\u001b[39m tile\u001b[38;5;241m.\u001b[39mfind(\u001b[38;5;124m'\u001b[39m\u001b[38;5;124mdiv\u001b[39m\u001b[38;5;124m'\u001b[39m, class_\u001b[38;5;241m=\u001b[39m\u001b[38;5;124m'\u001b[39m\u001b[38;5;124mproduct-name\u001b[39m\u001b[38;5;124m'\u001b[39m)\u001b[38;5;241m.\u001b[39mfind(\u001b[38;5;124m'\u001b[39m\u001b[38;5;124ma\u001b[39m\u001b[38;5;124m'\u001b[39m, \u001b[38;5;124m'\u001b[39m\u001b[38;5;124mname-link\u001b[39m\u001b[38;5;124m'\u001b[39m)\u001b[38;5;241m.\u001b[39mget_text()\u001b[38;5;241m.\u001b[39mreplace(\u001b[38;5;124m'\u001b[39m\u001b[38;5;130;01m\\n\u001b[39;00m\u001b[38;5;124m'\u001b[39m,\u001b[38;5;124m'\u001b[39m\u001b[38;5;124m'\u001b[39m)\n\u001b[1;32m     11\u001b[0m     \u001b[38;5;28mprint\u001b[39m(price, name)\n",
      "\u001b[0;31mAttributeError\u001b[0m: 'NoneType' object has no attribute 'get_text'"
     ]
    }
   ],
   "source": [
    "with open('tmp/output.html', 'r') as file:\n",
    "        data = file.read()\n",
    "\n",
    "soup = BeautifulSoup(data, 'html.parser')\n",
    "\n",
    "tiles = soup.find_all('div', class_='product-tile')\n",
    "\n",
    "for tile in tiles[:4]:\n",
    "    try:\n",
    "        price = tile.find('div', class_='product-pricing').find('span','lowcblack').get_text().replace(',00 DKK','')\n",
    "    except:\n",
    "        price = tile.find('input', class_='js-product-grid-prices').get_text().split('Price')[-1].replace('\\n','').strip()\n",
    "    name = tile.find('div', class_='product-name').find('a', 'name-link').get_text().replace('\\n','')\n",
    "    print(price, name)"
   ]
  },
  {
   "cell_type": "code",
   "execution_count": 137,
   "id": "ef26f025",
   "metadata": {},
   "outputs": [
    {
     "data": {
      "text/plain": [
       "<div class=\"product-pricing\">\n",
       "<input class=\"js-product-grid-prices\" type=\"hidden\" value=\"69.0 - 69.0\">\n",
       "<span class=\"product-sales-price range\" title=\"Price\"><span class=\"product-standard-price\"><span class=\"visually-hidden\">Standard Price was</span>99,00 DKK</span><span class=\"lowred\"><span class=\"visually-hidden\">Sale Price </span> 69,00 DKK</span></span>\n",
       "<input class=\"js-product-search-curcatId\" type=\"hidden\" value=\"men\"/>\n",
       "<input class=\"js-product-grid-catId\" type=\"hidden\" value=\"men-clothing-t-shirts\"/>\n",
       "<input class=\"js-product-search-catId\" type=\"hidden\" value=\"men-clothing-t-shirts\"/>\n",
       "</input></div>"
      ]
     },
     "execution_count": 137,
     "metadata": {},
     "output_type": "execute_result"
    }
   ],
   "source": [
    "tile.find('div', class_='product-pricing')"
   ]
  },
  {
   "cell_type": "code",
   "execution_count": 138,
   "id": "537df53e",
   "metadata": {},
   "outputs": [
    {
     "data": {
      "text/plain": [
       "<div class=\"product-pricing\">\n",
       "<input class=\"js-product-grid-prices\" type=\"hidden\" value=\"499.0 - 499.0\">\n",
       "<span class=\"product-sales-price range\" title=\"Price\"><span class=\"visually-hidden\">Standard Price</span><span class=\"lowcblack\">499,00 DKK</span></span>\n",
       "<input class=\"js-product-search-curcatId\" type=\"hidden\" value=\"men\"/>\n",
       "<input class=\"js-product-grid-catId\" type=\"hidden\" value=\"men-clothing-t-shirts\"/>\n",
       "<input class=\"js-product-search-catId\" type=\"hidden\" value=\"men-clothing-t-shirts\"/>\n",
       "</input></div>"
      ]
     },
     "execution_count": 138,
     "metadata": {},
     "output_type": "execute_result"
    }
   ],
   "source": [
    "tiles[2].find('div', class_='product-pricing')"
   ]
  },
  {
   "cell_type": "code",
   "execution_count": 159,
   "id": "22e42d6b",
   "metadata": {},
   "outputs": [
    {
     "data": {
      "text/plain": [
       "'69,00 DKK'"
      ]
     },
     "execution_count": 159,
     "metadata": {},
     "output_type": "execute_result"
    }
   ],
   "source": [
    "tile.find('input', class_='js-product-grid-prices').get_text().split('Price')[-1].replace('\\n','').strip()"
   ]
  },
  {
   "cell_type": "code",
   "execution_count": 208,
   "id": "64c18c19",
   "metadata": {},
   "outputs": [
    {
     "data": {
      "text/plain": [
       "'\\nHoodie and sweatshirts\\n179 Double-Knit Hoodie\\n999 Waffle-Knit Crewneck\\n1.099 Striped Waffle-Knit Crewneck\\n1.099 Classic Fit Logo Hockey Jersey\\n\\nJackets and coats\\n1.299 Polo Sport Hybrid Waistcoat\\n1.399 Oxford Full-Zip Overshirt\\n1.399 Oxford Full-Zip Overshirt\\n1.399 Double-Knit Track Jacket\\n'"
      ]
     },
     "execution_count": 208,
     "metadata": {},
     "output_type": "execute_result"
    }
   ],
   "source": [
    "combined_string"
   ]
  },
  {
   "cell_type": "code",
   "execution_count": 209,
   "id": "007da3fd",
   "metadata": {},
   "outputs": [
    {
     "data": {
      "text/plain": [
       "'curl -d \"\\nHoodie and sweatshirts\\n179 Double-Knit Hoodie\\n999 Waffle-Knit Crewneck\\n1.099 Striped Waffle-Knit Crewneck\\n1.099 Classic Fit Logo Hockey Jersey\\n\\nJackets and coats\\n1.299 Polo Sport Hybrid Waistcoat\\n1.399 Oxford Full-Zip Overshirt\\n1.399 Oxford Full-Zip Overshirt\\n1.399 Double-Knit Track Jacket\\n\" ntfy.sh/ralphscan'"
      ]
     },
     "execution_count": 209,
     "metadata": {},
     "output_type": "execute_result"
    }
   ],
   "source": [
    "command = 'curl -d \"{}\" ntfy.sh/ralphscan'.format(combined_string)\n",
    "command"
   ]
  },
  {
   "cell_type": "code",
   "execution_count": 210,
   "id": "3534bc5e",
   "metadata": {},
   "outputs": [
    {
     "name": "stderr",
     "output_type": "stream",
     "text": [
      "  % Total    % Received % Xferd  Average Speed   Time    Time     Time  Current\n",
      "                                 Dload  Upload   Total   Spent    Left  Speed\n",
      "\r",
      "  0     0    0     0    0     0      0      0 --:--:-- --:--:-- --:--:--     0"
     ]
    },
    {
     "name": "stdout",
     "output_type": "stream",
     "text": [
      "{\"id\":\"ElgMQ9fE6UEc\",\"time\":1668799793,\"event\":\"message\",\"topic\":\"ralphscan\",\"message\":\"Hoodie and sweatshirts\\n179 Double-Knit Hoodie\\n999 Waffle-Knit Crewneck\\n1.099 Striped Waffle-Knit Crewneck\\n1.099 Classic Fit Logo Hockey Jersey\\n\\nJackets and coats\\n1.299 Polo Sport Hybrid Waistcoat\\n1.399 Oxford Full-Zip Overshirt\\n1.399 Oxford Full-Zip Overshirt\\n1.399 Double-Knit Track Jacket\"}\n"
     ]
    },
    {
     "name": "stderr",
     "output_type": "stream",
     "text": [
      "\r",
      "100   683  100   391  100   292   1602   1196 --:--:-- --:--:-- --:--:--  2881\n"
     ]
    },
    {
     "data": {
      "text/plain": [
       "0"
      ]
     },
     "execution_count": 210,
     "metadata": {},
     "output_type": "execute_result"
    }
   ],
   "source": [
    "os.system(command)"
   ]
  },
  {
   "cell_type": "code",
   "execution_count": null,
   "id": "04f832fd",
   "metadata": {},
   "outputs": [],
   "source": []
  }
 ],
 "metadata": {
  "kernelspec": {
   "display_name": "Python 3 (ipykernel)",
   "language": "python",
   "name": "python3"
  },
  "language_info": {
   "codemirror_mode": {
    "name": "ipython",
    "version": 3
   },
   "file_extension": ".py",
   "mimetype": "text/x-python",
   "name": "python",
   "nbconvert_exporter": "python",
   "pygments_lexer": "ipython3",
   "version": "3.8.13"
  }
 },
 "nbformat": 4,
 "nbformat_minor": 5
}
